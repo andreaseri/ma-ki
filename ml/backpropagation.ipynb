{
 "cells": [
  {
   "cell_type": "markdown",
   "id": "1da2337c-6333-486f-beea-750bf87e82da",
   "metadata": {},
   "source": [
    "## Initialize Network"
   ]
  },
  {
   "cell_type": "code",
   "execution_count": 58,
   "id": "56f7391d-030e-4783-97c7-ef42af06567d",
   "metadata": {},
   "outputs": [
    {
     "name": "stdout",
     "output_type": "stream",
     "text": [
      "Hidden-Layer has 1 neurons.\n",
      "Neuron 1 has 2 weights and 1 bias.\n",
      "Weights [0.13436424411240122, 0.8474337369372327, 0.763774618976614]\n",
      "\n",
      "Output-Layer has 2 neurons.\n",
      "Neuron 1 has 1 weights and 1 bias.\n",
      "Weights [0.2550690257394217, 0.49543508709194095]\n",
      "Neuron 2 has 1 weights and 1 bias.\n",
      "Weights [0.4494910647887381, 0.651592972722763]\n",
      "\n"
     ]
    }
   ],
   "source": [
    "# Example of initializing a network\n",
    "from random import seed\n",
    "from random import random\n",
    "\n",
    "# Initialize a network\n",
    "def initialize_network(n_inputs, n_hidden, n_outputs):\n",
    "    network = list()\n",
    "    hidden_layer = [{'weights':[random() for i in range(n_inputs + 1)]} for i in range(n_hidden)]\n",
    "    network.append(hidden_layer)\n",
    "    output_layer = [{'weights':[random() for i in range(n_hidden + 1)]} for i in range(n_outputs)]\n",
    "    network.append(output_layer)\n",
    "    return network\n",
    "\n",
    "# Test initializing a network\n",
    "seed(1)\n",
    "network = initialize_network(2, 1, 2)\n",
    "\n",
    "for k, layer in enumerate(network):\n",
    "    print(f\"{'Output' if k == len(network) - 1 else 'Hidden'}-Layer has {len(layer)} neurons.\")\n",
    "    for i, neuron in enumerate(layer):\n",
    "        print(f\"Neuron {i + 1} has {len(neuron['weights']) - 1} weights and 1 bias.\")\n",
    "        print(f\"Weights {neuron['weights']}\")\n",
    "    print()\n",
    "    \n",
    "#seed(2)\n",
    "#network = initialize_network(3, 2, 1)\n",
    "#for layer in network:\n",
    "#    print(f\"Layer has {len(layer)} neurons.\")\n",
    "#    for i, neuron in enumerate(layer):\n",
    "#        print(f\"Neuron {i + 1} has {len(neuron['weights']) - 1} weights and 1 bias.\")\n",
    "#    print()"
   ]
  },
  {
   "cell_type": "markdown",
   "id": "0650baa2-4aab-4021-815c-1eeefab8b012",
   "metadata": {},
   "source": [
    "## Forward-Propagate\n",
    "\n",
    "1. Neuron Activation.\n",
    "2. Neuron Transfer.\n",
    "3. Forward-Propagation.\n"
   ]
  },
  {
   "cell_type": "markdown",
   "id": "6ce07d71-8fdc-44c3-8157-867de0b9bde6",
   "metadata": {},
   "source": [
    "**Activation**\n",
    "$$activation = bias + \\sum_{i=1}^n weight_i × input_i$$"
   ]
  },
  {
   "cell_type": "code",
   "execution_count": 59,
   "id": "c35b52c2-e3d8-4d1c-b280-da4b6271c252",
   "metadata": {},
   "outputs": [],
   "source": [
    "# Calculate neuron activation for an input\n",
    "def activate(weights, inputs):\n",
    "    # Assume the last element in weihgts is 1 * bias\n",
    "    activation = weights[-1]\n",
    "    for i in range(len(weights)-1):\n",
    "        activation += weights[i] * inputs[i]\n",
    "    return activation"
   ]
  },
  {
   "cell_type": "markdown",
   "id": "c20c3178-9d1b-4164-a826-151285c293d0",
   "metadata": {},
   "source": [
    "**Sigmoid**\n",
    "\n",
    "$$output=\\frac{1}{1+e^{-activation}}$$"
   ]
  },
  {
   "cell_type": "code",
   "execution_count": 60,
   "id": "095ae34b-825e-41a9-a0f6-806cd8d84fed",
   "metadata": {},
   "outputs": [],
   "source": [
    "# Example of forward propagating input\n",
    "from math import exp\n",
    "\n",
    "# Transfer neuron activation\n",
    "def transfer(activation):\n",
    "    return 1.0 / (1.0 + exp(-activation))"
   ]
  },
  {
   "cell_type": "code",
   "execution_count": 61,
   "id": "e6ad3bc3-4109-45ea-8d6f-0061ddf4b26b",
   "metadata": {},
   "outputs": [],
   "source": [
    "# Forward propagate input to a network output\n",
    "def forward_propagate(network, row):\n",
    "    inputs = row\n",
    "    for layer in network:\n",
    "        new_inputs = []\n",
    "        for neuron in layer:\n",
    "            activation = activate(neuron['weights'], inputs)\n",
    "            neuron['output'] = transfer(activation)\n",
    "            new_inputs.append(neuron['output'])\n",
    "    \n",
    "        inputs = new_inputs\n",
    "    \n",
    "    return inputs"
   ]
  },
  {
   "cell_type": "code",
   "execution_count": 62,
   "id": "87044aac-bc43-4cdb-9fd0-790162160cc7",
   "metadata": {},
   "outputs": [
    {
     "name": "stdout",
     "output_type": "stream",
     "text": [
      "[0.6629970129852887, 0.7253160725279748]\n"
     ]
    }
   ],
   "source": [
    "row = [1, 0, None]\n",
    "output = forward_propagate(network, row)\n",
    "print(output)"
   ]
  }
 ],
 "metadata": {
  "kernelspec": {
   "display_name": "Python 3 (ipykernel)",
   "language": "python",
   "name": "python3"
  },
  "language_info": {
   "codemirror_mode": {
    "name": "ipython",
    "version": 3
   },
   "file_extension": ".py",
   "mimetype": "text/x-python",
   "name": "python",
   "nbconvert_exporter": "python",
   "pygments_lexer": "ipython3",
   "version": "3.11.9"
  }
 },
 "nbformat": 4,
 "nbformat_minor": 5
}
