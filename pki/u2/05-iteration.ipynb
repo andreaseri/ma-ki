{
 "cells": [
  {
   "cell_type": "markdown",
   "id": "bb07a344",
   "metadata": {},
   "source": [
    "<figure>\n",
    "  <IMG SRC=\"https://upload.wikimedia.org/wikipedia/commons/thumb/d/d5/Fachhochschule_Südwestfalen_20xx_logo.svg/320px-Fachhochschule_Südwestfalen_20xx_logo.svg.png\" WIDTH=250 ALIGN=\"right\">\n",
    "</figure>\n",
    "\n",
    "# Programmierung für KI\n",
    "### Winterersemester 2024/25\n",
    "Prof. Dr. Heiner Giefers"
   ]
  },
  {
   "cell_type": "markdown",
   "id": "1e14339e",
   "metadata": {
    "deletable": false,
    "editable": false,
    "nbgrader": {
     "grade": false,
     "grade_id": "cell-9645d28f0c97f178",
     "locked": true,
     "schema_version": 3,
     "solution": false,
     "task": false
    }
   },
   "source": [
    "**Aufgabe 1: Schreiben Sie ein Programm, das wiederholt Zahlen einliest, bis der Benutzer den Befehl `done` eingibt. Sobald `done` eingegeben wurde, geben Sie die Summe, die Anzahl und den Durchschnitt der Zahlen aus. Wenn der Benutzer etwas anderes als eine Zahl eingibt, erkennen Sie seinen Fehler mit `try` und `except` und verlassen die Funktion, indem Sie die Fehlermeldung `Es werden nur Zahlen akzeptiert. Beenden mit 'done'` als Zeichenkette (mit `return`) \n",
    "zurückgeben.**\n",
    "\n",
    "*Erwartete Ausgabe:*\n",
    "\n",
    "    Bitte eine Zahl eingeben: 2\n",
    "    Bitte eine Zahl eingeben: 4\n",
    "    Bitte eine Zahl eingeben: 6\n",
    "    Bitte eine Zahl eingeben: done\n",
    "    Anzahl: 3 Summe: 12.0 Durchschnitt: 4.0"
   ]
  },
  {
   "cell_type": "code",
   "execution_count": 1,
   "id": "a0321b5f-667e-422a-99d7-d556857159c5",
   "metadata": {},
   "outputs": [
    {
     "name": "stdout",
     "output_type": "stream",
     "text": [
      "Requirement already satisfied: nose in /Users/andreaseri/miniconda3/envs/grundlagen-programmieren-test/lib/python3.11/site-packages (1.3.7)\n"
     ]
    }
   ],
   "source": [
    "!pip install nose"
   ]
  },
  {
   "cell_type": "code",
   "execution_count": 2,
   "id": "9bbc72ea-bee6-445f-af3c-d8f34af73f58",
   "metadata": {},
   "outputs": [],
   "source": [
    "def get_float(value):\n",
    "    try:\n",
    "        return True, float(value)\n",
    "    except:\n",
    "        return False, None"
   ]
  },
  {
   "cell_type": "code",
   "execution_count": 11,
   "id": "c46f3ef0-7e3f-46d0-b384-9bb60b2c784e",
   "metadata": {},
   "outputs": [
    {
     "name": "stdout",
     "output_type": "stream",
     "text": [
      "(True, 1.0)\n",
      "(True, 0.9)\n",
      "(False, None)\n",
      "(True, -1.0)\n",
      "False None test\n"
     ]
    }
   ],
   "source": [
    "print(get_float(1))\n",
    "print(get_float(0.9))\n",
    "print(get_float('test'))\n",
    "print(get_float(-1))\n",
    "# print(get_float(True))\n",
    "# print(get_float(False))\n",
    "\n",
    "ok, zahl, text = False, None, \"test\"\n",
    "\n",
    "print(ok, zahl, text)"
   ]
  },
  {
   "cell_type": "code",
   "execution_count": 3,
   "id": "a6a37927",
   "metadata": {
    "deletable": false,
    "nbgrader": {
     "grade": false,
     "grade_id": "cell-aaa380245b05e7d3",
     "locked": false,
     "schema_version": 3,
     "solution": true,
     "task": false
    }
   },
   "outputs": [
    {
     "name": "stdin",
     "output_type": "stream",
     "text": [
      "Bitte eine Zahl eingeben:  1\n",
      "Bitte eine Zahl eingeben:  2\n",
      "Bitte eine Zahl eingeben:  3\n",
      "Bitte eine Zahl eingeben:  done\n"
     ]
    },
    {
     "name": "stdout",
     "output_type": "stream",
     "text": [
      "Anzahl: 3 Summe: 6.0 Durchschnitt: 2.0\n"
     ]
    }
   ],
   "source": [
    "def durchschnitt():\n",
    "    anzahl = 0\n",
    "    summe = 0\n",
    "    durchschnitt = 0\n",
    "\n",
    "    while True:\n",
    "        value = input(\"Bitte eine Zahl eingeben: \")\n",
    "        if value == \"done\":\n",
    "            break;\n",
    "\n",
    "        ok, zahl = get_float(value)\n",
    "        if not ok:\n",
    "            return \"Es werden nur Zahlen akzeptiert. Beenden mit 'done'\"\n",
    "\n",
    "        anzahl = anzahl + 1\n",
    "        summe = summe + zahl\n",
    "        durchschnitt = summe / anzahl\n",
    "    \n",
    "    erg = \"Anzahl: \" + str(anzahl) + \" Summe: \" + str(summe) + \" Durchschnitt: \" + str(durchschnitt)\n",
    "    return erg\n",
    "\n",
    "print(durchschnitt())"
   ]
  },
  {
   "cell_type": "code",
   "execution_count": 10,
   "id": "c9a16a77",
   "metadata": {
    "deletable": false,
    "editable": false,
    "nbgrader": {
     "grade": true,
     "grade_id": "cell-09543649eed06a8a",
     "locked": true,
     "points": 2,
     "schema_version": 3,
     "solution": false,
     "task": false
    }
   },
   "outputs": [
    {
     "name": "stdout",
     "output_type": "stream",
     "text": [
      "Bitte eine Zahl eingeben: \n",
      "Bitte eine Zahl eingeben: \n",
      "Bitte eine Zahl eingeben: \n",
      "Bitte eine Zahl eingeben: \n",
      "Bitte eine Zahl eingeben: \n",
      "Bitte eine Zahl eingeben: \n",
      "Bitte eine Zahl eingeben: \n"
     ]
    }
   ],
   "source": [
    "\"\"\"Teste die Funktion durchschnitt auf Gültigkeit.\"\"\"\n",
    "\n",
    "def myinput(inputs):\n",
    "    def foo(a):\n",
    "        print(a)\n",
    "        input.counter += 1\n",
    "        if input.counter > len(inputs) :\n",
    "            raise \"Nicht genügend inputs\"\n",
    "        else:\n",
    "            return inputs[input.counter-1]\n",
    "    foo.counter = 0\n",
    "    return foo\n",
    "\n",
    "from nose.tools import assert_equal\n",
    "\n",
    "input_old = input\n",
    "# Erster Testlauf, Abschluss der Eingabe mit \"done\"\n",
    "input = myinput(['2','4', '6', 'done'])\n",
    "s1 = durchschnitt()\n",
    "# Zweiter Testlauf, Abschluss der Eingabe mit fehlerhaftem Input\n",
    "input = myinput(['2','4','falsch'])\n",
    "s2 = durchschnitt()\n",
    "input = input_old\n",
    "\n",
    "assert \"Anzahl: 3 Summe: 12.0 Durchschnitt: 4.0\" in s1, \"Die Ausgabe stimmt nicht\"\n",
    "assert \"Es werden nur Zahlen akzeptiert\" in s2, \"Die Fehlermeldung ist nicht korrekt\""
   ]
  },
  {
   "cell_type": "markdown",
   "id": "c7878c70",
   "metadata": {
    "deletable": false,
    "editable": false,
    "nbgrader": {
     "grade": false,
     "grade_id": "cell-ec31473295561606",
     "locked": true,
     "schema_version": 3,
     "solution": false,
     "task": false
    }
   },
   "source": [
    "**Aufgabe 2: Schreiben Sie ein weiteres Programm, das eine Liste von Zahlen wie oben abfragt und am Ende sowohl das Maximum als auch das Minimum der Zahlen anstelle des Durchschnitts ausgibt.**"
   ]
  },
  {
   "cell_type": "code",
   "execution_count": 15,
   "id": "bbe1f9ef-971e-44b7-bd2f-5576d24cca94",
   "metadata": {
    "deletable": false,
    "nbgrader": {
     "grade": false,
     "grade_id": "cell-684d8a49ce7ad30e",
     "locked": false,
     "schema_version": 3,
     "solution": true,
     "task": false
    }
   },
   "outputs": [
    {
     "name": "stdin",
     "output_type": "stream",
     "text": [
      "Bitte eine Zahl eingeben:  1\n",
      "Bitte eine Zahl eingeben:  2\n",
      "Bitte eine Zahl eingeben:  3\n",
      "Bitte eine Zahl eingeben:  done\n"
     ]
    },
    {
     "name": "stdout",
     "output_type": "stream",
     "text": [
      "Minimum: 1.0 Maximum: 3.0\n"
     ]
    }
   ],
   "source": [
    "def minmax():\n",
    "    anzahl = 0\n",
    "    minimum = None\n",
    "    maximum = None\n",
    "    \n",
    "    while True:\n",
    "        value = input(\"Bitte eine Zahl eingeben: \")\n",
    "        if value == \"done\":\n",
    "            break\n",
    "\n",
    "        ok, zahl = get_float(value)\n",
    "        if not ok:\n",
    "            return \"Es werden nur Zahlen akzeptiert. Beenden mit 'done'\"\n",
    "\n",
    "        if anzahl == 0:\n",
    "            minimum, maximum = zahl, zahl\n",
    "        else:\n",
    "            minimum = min(zahl, minimum)\n",
    "            maximum = max(zahl, maximum)\n",
    "\n",
    "        anzahl = anzahl + 1\n",
    "        \n",
    "    #erg = \"Minimum: \" + str(minimum) + \" Maximum: \" + str(maximum)\n",
    "    #erg = \"Minimum: \" + minimum + \" Maximum: \" + maximum\n",
    "    erg = f\"Minimum: {minimum} Maximum: {maximum}\"\n",
    "    return erg\n",
    "\n",
    "print(minmax())"
   ]
  },
  {
   "cell_type": "code",
   "execution_count": 6,
   "id": "c51f66fc",
   "metadata": {
    "deletable": false,
    "editable": false,
    "nbgrader": {
     "grade": true,
     "grade_id": "cell-806efb201458eefd",
     "locked": true,
     "points": 2,
     "schema_version": 3,
     "solution": false,
     "task": false
    }
   },
   "outputs": [
    {
     "name": "stdout",
     "output_type": "stream",
     "text": [
      "Bitte eine Zahl eingeben: \n",
      "Bitte eine Zahl eingeben: \n",
      "Bitte eine Zahl eingeben: \n",
      "Bitte eine Zahl eingeben: \n",
      "Bitte eine Zahl eingeben: \n",
      "Bitte eine Zahl eingeben: \n",
      "Bitte eine Zahl eingeben: \n"
     ]
    }
   ],
   "source": [
    "\"\"\"Teste die Funktion minmax auf Gültigkeit.\"\"\"\n",
    "\n",
    "def myinput(inputs):\n",
    "    def foo(a):\n",
    "        print(a)\n",
    "        input.counter += 1\n",
    "        if input.counter > len(inputs) :\n",
    "            raise \"Nicht genügend inputs\"\n",
    "        else:\n",
    "            return inputs[input.counter-1]\n",
    "    foo.counter = 0\n",
    "    return foo\n",
    "\n",
    "from nose.tools import assert_equal\n",
    "\n",
    "input_old = input\n",
    "input = myinput(['2','4','1','done'])\n",
    "s1 = minmax()\n",
    "input = myinput(['2','4','test'])\n",
    "s2 = minmax()\n",
    "input = input_old\n",
    "\n",
    "assert \"Minimum: 1.0 Maximum: 4.0\" in s1, \"Die Ausgabe stimmt nicht\"\n",
    "assert \"Es werden nur Zahlen akzeptiert\" in s2, \"Die Fehlermeldung ist nicht korrekt\""
   ]
  }
 ],
 "metadata": {
  "kernelspec": {
   "display_name": "Python 3 (ipykernel)",
   "language": "python",
   "name": "python3"
  },
  "language_info": {
   "codemirror_mode": {
    "name": "ipython",
    "version": 3
   },
   "file_extension": ".py",
   "mimetype": "text/x-python",
   "name": "python",
   "nbconvert_exporter": "python",
   "pygments_lexer": "ipython3",
   "version": "3.11.9"
  }
 },
 "nbformat": 4,
 "nbformat_minor": 5
}
