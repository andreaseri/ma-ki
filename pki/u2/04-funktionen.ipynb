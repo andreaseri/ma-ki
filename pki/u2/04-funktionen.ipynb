{
 "cells": [
  {
   "cell_type": "markdown",
   "id": "b47001d7",
   "metadata": {},
   "source": [
    "<figure>\n",
    "  <IMG SRC=\"https://upload.wikimedia.org/wikipedia/commons/thumb/d/d5/Fachhochschule_Südwestfalen_20xx_logo.svg/320px-Fachhochschule_Südwestfalen_20xx_logo.svg.png\" WIDTH=250 ALIGN=\"right\">\n",
    "</figure>\n",
    "\n",
    "# Programmierung für KI\n",
    "### Winterersemester 2024/25\n",
    "Prof. Dr. Heiner Giefers"
   ]
  },
  {
   "cell_type": "markdown",
   "id": "a02bc8f2",
   "metadata": {},
   "source": [
    "**Übung 1: Was ist der Zweck des Schlüsselworts def in Python?**\n",
    "\n",
    "a) Es ist Slang und bedeutet „der folgende Code ist wirklich cool“ <br>\n",
    "b) Es zeigt den Beginn einer Funktion an <br>\n",
    "c) Es zeigt an, dass der folgende eingerückte Codeabschnitt für eine spätere Wiederverwendung abgelegt werden soll <br>\n",
    "d) b und c sind beide wahr <br>\n",
    "e) Keiner der oben genannten Punkte <br>\n",
    "\n",
    "Tragen Sie ihre Antwort in den return-Wert ein."
   ]
  },
  {
   "cell_type": "code",
   "execution_count": 11,
   "id": "8462fd8e-1d30-43ec-bfdf-715b6535eb1c",
   "metadata": {},
   "outputs": [
    {
     "name": "stdout",
     "output_type": "stream",
     "text": [
      "Requirement already satisfied: nose in /Users/andreaseri/miniconda3/envs/grundlagen-programmieren-test/lib/python3.11/site-packages (1.3.7)\n"
     ]
    }
   ],
   "source": [
    "!pip install nose"
   ]
  },
  {
   "cell_type": "code",
   "execution_count": 2,
   "id": "c9a82d13",
   "metadata": {
    "deletable": false,
    "nbgrader": {
     "grade": false,
     "grade_id": "cell-6d1235dc06fffa57",
     "locked": false,
     "schema_version": 3,
     "solution": true,
     "task": false
    }
   },
   "outputs": [],
   "source": [
    "def answer1():\n",
    "    antwort = None\n",
    "    antwort = 'd'\n",
    "    return antwort"
   ]
  },
  {
   "cell_type": "code",
   "execution_count": 3,
   "id": "bd63c67f",
   "metadata": {
    "deletable": false,
    "editable": false,
    "nbgrader": {
     "grade": true,
     "grade_id": "cell-61aeff3d56ad49f3",
     "locked": true,
     "points": 1,
     "schema_version": 3,
     "solution": false,
     "task": false
    }
   },
   "outputs": [],
   "source": [
    "assert type(answer1())==str, \"Bitte setzen Sie antwort auf eine Zeichenkette 'a', 'b', 'c', 'd' oder 'e'\""
   ]
  },
  {
   "cell_type": "markdown",
   "id": "d62c2ec2",
   "metadata": {},
   "source": [
    "**Übung 2: Was wird das folgende Python Programm ausgeben?**\n",
    "\n",
    "```python\n",
    "def fred():\n",
    "    print(\"Zap\")\n",
    "def jane():\n",
    "    print(\"ABC\")\n",
    "\n",
    "jane()\n",
    "fred()\n",
    "jane()\n",
    "```\n",
    "\n",
    "\n",
    "a) Zap ABC jane fred jane <br>\n",
    "b) Zap ABC Zap <br>\n",
    "c) ABC Zap jane <br>\n",
    "d) ABC Zap ABC <br>\n",
    "e) Zap Zap Zap <br>\n",
    "\n",
    "Tragen Sie ihre Antwort in den return-Wert ein."
   ]
  },
  {
   "cell_type": "code",
   "execution_count": 17,
   "id": "33a540a1",
   "metadata": {
    "deletable": false,
    "nbgrader": {
     "grade": false,
     "grade_id": "cell-1ab8a61d271937a1",
     "locked": false,
     "schema_version": 3,
     "solution": true,
     "task": false
    }
   },
   "outputs": [],
   "source": [
    "def answer1():\n",
    "    antwort = None\n",
    "    antwort = 'd'\n",
    "    return antwort"
   ]
  },
  {
   "cell_type": "code",
   "execution_count": 14,
   "id": "53aacd74",
   "metadata": {
    "deletable": false,
    "editable": false,
    "nbgrader": {
     "grade": true,
     "grade_id": "cell-426cda653caad121",
     "locked": true,
     "points": 1,
     "schema_version": 3,
     "solution": false,
     "task": false
    }
   },
   "outputs": [],
   "source": [
    "from nose.tools import assert_equal\n",
    "assert_equal(type(answer1()), str, \"Bitte setzen Sie antwort auf eine Zeichenkette 'a', 'b', 'c', 'd' oder 'e'\")"
   ]
  },
  {
   "cell_type": "markdown",
   "id": "9b5b2008",
   "metadata": {
    "deletable": false,
    "editable": false,
    "nbgrader": {
     "grade": false,
     "grade_id": "cell-70fd84973bc5d9fb",
     "locked": true,
     "schema_version": 3,
     "solution": false,
     "task": false
    },
    "pycharm": {
     "name": "#%% md\n"
    }
   },
   "source": [
    "**Übung 3: Schreiben Sie ihr Programm zur Lohnberechnung aus Kapitel 3 so um, dass es als Funktion ausgeführt werden kann. Die Funktion soll \"lohnberechnung\" heißen, die Parameter `stundenlohn` und `arbeitsstunden` besitzen sowie den berechneten Gehaltswert zurück geben. Bei Übergabe einer nicht numerischen Eingabe, soll die Fehlermeldung `Fehler, bitte gib eine Zahl ein` zurückgegeben werden.**"
   ]
  },
  {
   "cell_type": "code",
   "execution_count": 15,
   "id": "f0461d0b",
   "metadata": {
    "deletable": false,
    "nbgrader": {
     "grade": false,
     "grade_id": "cell-160086955c8b2f59",
     "locked": false,
     "schema_version": 3,
     "solution": true,
     "task": false
    }
   },
   "outputs": [],
   "source": [
    "def get_float(value):\n",
    "    try:\n",
    "        return True, float(value)\n",
    "    except:\n",
    "        return False, None\n",
    "\n",
    "# 1,5 fache ab 40h\n",
    "def lohnberechnung(stundenlohn, arbeitsstunden):\n",
    "    for value in [stundenlohn, arbeitsstunden]:\n",
    "        ok, _ = get_float(value)\n",
    "        if not ok:\n",
    "            return \"Fehler, bitte gib eine Zahl ein.\"\n",
    "        \n",
    "    mehrarbeit_ab = 40\n",
    "    gehalt = stundenlohn * (min(arbeitsstunden, mehrarbeit_ab) + 1.5 * max(arbeitsstunden - mehrarbeit_ab, 0))\n",
    "    return gehalt"
   ]
  },
  {
   "cell_type": "code",
   "execution_count": 16,
   "id": "6e59c9ba",
   "metadata": {
    "deletable": false,
    "editable": false,
    "nbgrader": {
     "grade": true,
     "grade_id": "cell-79654f2541fc33a8",
     "locked": true,
     "points": 1,
     "schema_version": 3,
     "solution": false,
     "task": false
    }
   },
   "outputs": [],
   "source": [
    "\"\"\"Überprüft, dass die Funktion lohnberechnung korrekt funktioniert.\"\"\"\n",
    "from nose.tools import assert_almost_equal\n",
    "assert_almost_equal(lohnberechnung(10, 45), 475.0, \"Falsches Ergebnis\")\n",
    "assert_almost_equal(lohnberechnung(10, 15), 150.0, \"Falsches Ergebnis\")\n",
    "assert_equal(lohnberechnung(\"zehn\", 10), \"Fehler, bitte gib eine Zahl ein.\")\n",
    "assert_equal(lohnberechnung(10, \"zehn\"), \"Fehler, bitte gib eine Zahl ein.\")"
   ]
  },
  {
   "cell_type": "markdown",
   "id": "399b8125",
   "metadata": {},
   "source": [
    "**Übung 4:  Schreiben Sie das Benotungsprogramm aus Kapitel 3 neu, indem Sie eine Funktion namens `notenberechnung` implementieren, die eine Punktzahl als Parameter annimmt und eine Note zurückgibt. Falls die Eingabe keine Zahl ist, geben Sie `Bitte eine Zahl eingeben` als Ergebnis zurück und beenden damit die Funktion. Geben Sie die Fehlermeldung `Falsche Punktanzahl, bitte geben Sie die Punkte von 0.0 bis 1.0 ein` als Ergebnis der Funktion zurück, falls die eingegebene Zahl größer 1 und kleiner 0 ist.**"
   ]
  },
  {
   "cell_type": "markdown",
   "id": "e093ec06-2948-4cab-8d9c-dcfa9efe4749",
   "metadata": {},
   "source": [
    "Punkte   Note \n",
    " >= 0.9     1  \n",
    " >= 0.8     2  \n",
    " >= 0.7     3  \n",
    " >= 0.6     4  \n",
    "  < 0.6     5  "
   ]
  },
  {
   "cell_type": "code",
   "execution_count": 19,
   "id": "c756ba71",
   "metadata": {
    "deletable": false,
    "nbgrader": {
     "grade": false,
     "grade_id": "cell-968a8a9e7e209e84",
     "locked": false,
     "schema_version": 3,
     "solution": true,
     "task": false
    }
   },
   "outputs": [],
   "source": [
    "def get_float(value):\n",
    "    try:\n",
    "        return True, float(value)\n",
    "    except:\n",
    "        return False, None\n",
    "        \n",
    "def notenberechnung(punktzahl):\n",
    "    ok, punktzahl = get_float(punktzahl)\n",
    "    if not ok:\n",
    "        return \"Bitte eine Zahl eingeben\"\n",
    "\n",
    "    if punktzahl < 0 or punktzahl > 1:\n",
    "        return \"Falsche Punktanzahl, bitte geben Sie die Punkte von 0.0 bis 1.0 ein\"\n",
    "\n",
    "    if punktzahl >= 0.9:\n",
    "        return 1\n",
    "    elif punktzahl >= 0.8:\n",
    "        return 2\n",
    "    elif punktzahl >= 0.7:\n",
    "        return 3\n",
    "    elif punktzahl >= 0.6:\n",
    "        return 4\n",
    "    else:\n",
    "        return 5"
   ]
  },
  {
   "cell_type": "code",
   "execution_count": 20,
   "id": "90a6459b",
   "metadata": {
    "deletable": false,
    "editable": false,
    "nbgrader": {
     "grade": true,
     "grade_id": "cell-a4b1592b04a632f4",
     "locked": true,
     "points": 1,
     "schema_version": 3,
     "solution": false,
     "task": false
    }
   },
   "outputs": [],
   "source": [
    "\"\"\"Überprüft, dass die Funktion notenberechnung korrekt funktioniert.\"\"\"\n",
    "from nose.tools import assert_equal\n",
    "assert_equal(notenberechnung(0.5), 5, \"Falsches Ergebnis\")\n",
    "assert_equal(notenberechnung(0.6), 4, \"Falsches Ergebnis\")\n",
    "assert_equal(notenberechnung(0.7), 3, \"Falsches Ergebnis\")\n",
    "assert_equal(notenberechnung(0.8), 2, \"Falsches Ergebnis\")\n",
    "assert_equal(notenberechnung(0.9), 1, \"Falsches Ergebnis\")\n",
    "assert_equal(notenberechnung(1.1), \"Falsche Punktanzahl, bitte geben Sie die Punkte von 0.0 bis 1.0 ein\")\n",
    "assert_equal(notenberechnung(-1.0), \"Falsche Punktanzahl, bitte geben Sie die Punkte von 0.0 bis 1.0 ein\")\n",
    "assert_equal(notenberechnung(\"eins\"), \"Bitte eine Zahl eingeben\")"
   ]
  }
 ],
 "metadata": {
  "kernelspec": {
   "display_name": "Python 3 (ipykernel)",
   "language": "python",
   "name": "python3"
  },
  "language_info": {
   "codemirror_mode": {
    "name": "ipython",
    "version": 3
   },
   "file_extension": ".py",
   "mimetype": "text/x-python",
   "name": "python",
   "nbconvert_exporter": "python",
   "pygments_lexer": "ipython3",
   "version": "3.11.9"
  }
 },
 "nbformat": 4,
 "nbformat_minor": 5
}
