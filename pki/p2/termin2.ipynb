{
 "cells": [
  {
   "cell_type": "markdown",
   "metadata": {},
   "source": [
    "<figure>\n",
    "  <IMG SRC=\"https://upload.wikimedia.org/wikipedia/commons/thumb/d/d5/Fachhochschule_Südwestfalen_20xx_logo.svg/320px-Fachhochschule_Südwestfalen_20xx_logo.svg.png\" WIDTH=250 ALIGN=\"right\">\n",
    "</figure>\n",
    "\n",
    "# Programmierung für KI\n",
    "### Winterersemester 2024/25\n",
    "Prof. Dr. Heiner Giefers"
   ]
  },
  {
   "cell_type": "markdown",
   "metadata": {},
   "source": [
    "# Praktikumstermin 2\n",
    "1. Rückblick auf die Inhalte der letzten Kapitel\n",
    "   - Schleifen und Funktionen\n",
    "   - Dateien lesen und schreiben\n",
    "   - Zeichenketten\n",
    "2. Turtle Grafiken\n",
    "   "
   ]
  },
  {
   "cell_type": "markdown",
   "metadata": {},
   "source": [
    "### Schleifen und Funktionen\n",
    "\n",
    "So gut wie jedes Programm verwendet Schleifen und Funktionen.\n",
    "Es sind, neben der *bedingten Ausführung* (bzw. der *alternativen Ausführung*) die wichtigsten Elemente zur Strukturierung von Programmen.\n",
    "In den kommenden Aufgaben, wollen wir noch einmal das Schreiben von Funktionen und Schleifen üben."
   ]
  },
  {
   "cell_type": "markdown",
   "metadata": {},
   "source": [
    "Funktionen in Python werden über das Schlüsselwort def definiert. Die Syntax einer Funktions-Definition sieht folgendermaßen aus:\n",
    "\n",
    "```python\n",
    "def myfunc(arg1, arg2,... argN):  \n",
    "  '''Dokumentation'''  \n",
    "\n",
    "  #Programmcode, optional mit return Anweisungen\n",
    "```\n",
    "\n",
    "Hier wird die Funktion `myfunc` definiert, welche mit den Parametern `arg1,arg2,....argN` aufgerufen wird.\n",
    "Wir können bereits bei der Definition der Funktion Werte für einzelne Parameter angeben.\n",
    "Jemand, der die Funktion verwendet, kann dann den Paramter weglassen und es wird der *default* Wert übernommen.\n",
    "Die Parameter, die zwingend beim Aufruf der Funktion angegeben werden müssen, stehen vorne in der Liste, die mit *default*-Werten stehen hinten.\n",
    "\n",
    "Wenn beim Programmaufruf Parameter angegeben werden, müssen diese in der gleichen Reihenfolge wie bei der Funktionsdefinition angegeben werden.\n",
    "Sollen einige der *default*-Parameter übernommen werden, *fehlen* dieses Werte beim Funktionsaufruf und die Reihenfolge stimmt ab dem ersten übernommenen *default*-Parameter nicht mehr. In diesem Fall ist es notwendig, die folgenden Parameter, deren *default*-Werte überschrieben werden sollen, namentlich zu benennen."
   ]
  },
  {
   "cell_type": "markdown",
   "metadata": {},
   "source": [
    "Schauen wir uns die folgende Definition der Funktion `operator_tabelle` an.\n",
    "Die Funktion besitzt drei Parameter:\n",
    "`op` soll vom Typ `str` sein und die zu verwendende Operation angeben, `von` und `bis` legen den Start- bzw. Endwert der Operationstabelle fest.\n",
    "Die Angabe eines Wertes für `op` ist von der Funktion gefordert. \n",
    "Für `von` und `bis` sind jeweils Werte vorgegeben, die aber nur verwendet werden, wenn entsprechende Argumente beim Funktionsaufruf weggelassen werden.\n",
    "\n",
    "Was die Funktion tut und wie sie aufgerufen werden soll, wird auch im **`Docstring`** erklärt.\n",
    "Dieser String kann am Anfang einer Funktion gesetzt werden.\n",
    "Er dient zum Einen der besseren Verständlichkeit des Quellcodes.\n",
    "Zum Anderen wird dieser String angezeigt, wenn die Python Hilfe-Funktion `help` mit dem Namen der Funktion aufgerufen wird.\n",
    "Dies hilft den Personen, die die Funktion verwenden wollen, aber nicht unmittelbaren Zugriff auf den Quellcode haben.\n",
    "\n",
    "**`return`** Anweisungen können grundsätzlich überall in der Funktion verwendet werden.\n",
    "Es kann auch an mehreren Stellen ein `return`-Aufruf stehen, allerdings kann eine Funktion nur jeweils eine dieser Anweisungen ausführen.\n",
    "Nach einem `return` wird die Funktion verlassen und bei einem erneuten Aufruf beginnt die Funktion wieder *von Vorne*."
   ]
  },
  {
   "cell_type": "code",
   "execution_count": 1,
   "metadata": {},
   "outputs": [
    {
     "name": "stdout",
     "output_type": "stream",
     "text": [
      "   1   2   3   4   5\n",
      "   2   4   6   8  10\n",
      "   3   6   9  12  15\n",
      "   4   8  12  16  20\n",
      "   5  10  15  20  25\n",
      "\n"
     ]
    }
   ],
   "source": [
    "def operator_tabelle(op, von=1, bis=10):\n",
    "    '''Die Funktion berechnet Additions- und Multiplikationstabellen.\n",
    "    \n",
    "    Parameters\n",
    "    ----------\n",
    "    op : str\n",
    "            Der zu verwendende Operator, angegeben als String.\n",
    "            Nur '+' und '*' werden unterstützt.\n",
    "\n",
    "    von, bis: int, optional\n",
    "            Start- und Endwert der Operationstabelle.\n",
    "            \n",
    "    Raises\n",
    "    ------\n",
    "    ValueError\n",
    "            Wenn ein nicht unterstüzter Operator angegben wird.\n",
    "    '''\n",
    "    \n",
    "    tabelle = \"\"\n",
    "    if op=='+' or op=='*':\n",
    "        for zeile in range(von, bis+1):\n",
    "            for spalte in range(von, bis+1):\n",
    "                if op=='+':\n",
    "                    tabelle += f\"{zeile+spalte:4d}\"\n",
    "                else:\n",
    "                    tabelle += f\"{zeile*spalte:4d}\"\n",
    "            tabelle += '\\n'\n",
    "        return tabelle\n",
    "    else:\n",
    "        raise ValueError(\"Fehler: Ich kann nur '+' oder '*' rechnen!\")\n",
    "\n",
    "s = operator_tabelle('*', bis=5)\n",
    "print(s)"
   ]
  },
  {
   "cell_type": "code",
   "execution_count": 2,
   "metadata": {},
   "outputs": [
    {
     "name": "stdout",
     "output_type": "stream",
     "text": [
      "Help on function operator_tabelle in module __main__:\n",
      "\n",
      "operator_tabelle(op, von=1, bis=10)\n",
      "    Die Funktion berechnet Additions- und Multiplikationstabellen.\n",
      "    \n",
      "    Parameters\n",
      "    ----------\n",
      "    op : str\n",
      "            Der zu verwendende Operator, angegeben als String.\n",
      "            Nur '+' und '*' werden unterstützt.\n",
      "    \n",
      "    von, bis: int, optional\n",
      "            Start- und Endwert der Operationstabelle.\n",
      "            \n",
      "    Raises\n",
      "    ------\n",
      "    ValueError\n",
      "            Wenn ein nicht unterstüzter Operator angegben wird.\n",
      "\n"
     ]
    }
   ],
   "source": [
    "help(operator_tabelle)"
   ]
  },
  {
   "cell_type": "markdown",
   "metadata": {},
   "source": [
    "**Aufgabe 1:** Kann eine Python Funktion (je nach Aufruf) verschiedene Typen zurück liefern?"
   ]
  },
  {
   "cell_type": "code",
   "execution_count": 8,
   "metadata": {
    "deletable": false,
    "nbgrader": {
     "grade": true,
     "grade_id": "cell-cda4d023f0634965",
     "locked": false,
     "points": 0,
     "schema_version": 3,
     "solution": true,
     "task": false
    }
   },
   "outputs": [
    {
     "name": "stdout",
     "output_type": "stream",
     "text": [
      "<class 'str'>\n",
      "<class 'int'>\n",
      "<class 'float'>\n",
      "<class 'bool'>\n",
      "<class 'NoneType'>\n"
     ]
    }
   ],
   "source": [
    "def getValue(value):\n",
    "    return value\n",
    "\n",
    "print(type(getValue(\"huhu\")))\n",
    "print(type(getValue(1)))\n",
    "print(type(getValue(0.1)))\n",
    "print(type(getValue(True)))\n",
    "print(type(getValue(None)))"
   ]
  },
  {
   "cell_type": "markdown",
   "metadata": {},
   "source": [
    "**Aufgabe 2:** Schreiben Sie eine Funktion `fak`, die eine ganze Zahl als Parameter entgegennimmt und die Fakultät dieser Zahl als Ergebnis zurückliefert. Für die Parameter soll weiterhin gelten:\n",
    "- Falls der Parameter eine Fließkommazahl ist, soll diese zu einem Integer umgewandelt werden.\n",
    "- Falls der Parameter weder vom Typ `int`, noch vom Typ `float`ist, soll die Funktion einen `ValueError` erzeugen.\n",
    "- Wenn der Parameter weggelassen wird, soll standardmäßig die Fakultät von 42 berechnet werden."
   ]
  },
  {
   "cell_type": "code",
   "execution_count": 72,
   "metadata": {
    "deletable": false,
    "nbgrader": {
     "grade": false,
     "grade_id": "cell-3052fd6ef6e2e89b",
     "locked": false,
     "schema_version": 3,
     "solution": true,
     "task": false
    }
   },
   "outputs": [],
   "source": [
    "# n! := 1 * 2 * ... * n\n",
    "\n",
    "def fak(n = 42):\n",
    "    # Formal richtig, aber Intention war eine \"custom\" Fehlermeldung\n",
    "    # n = float(n)\n",
    "    # n = int(n)\n",
    "\n",
    "    if type(n) == float:\n",
    "        n = int(n)\n",
    "    if type(n) != int:\n",
    "        raise ValueError(\"Fehler: Es muss eine Zahl verwendet werden.\")\n",
    "    \n",
    "    erg = 1\n",
    "    for index in range(n):\n",
    "        erg = erg * (index + 1)\n",
    "\n",
    "    return erg\n",
    "    \n",
    "#fak(5.6)\n",
    "#fak(\"Test\")"
   ]
  },
  {
   "cell_type": "code",
   "execution_count": 73,
   "metadata": {
    "deletable": false,
    "editable": false,
    "nbgrader": {
     "grade": true,
     "grade_id": "cell-ad5460e73674150e",
     "locked": true,
     "points": 1,
     "schema_version": 3,
     "solution": false,
     "task": false
    }
   },
   "outputs": [],
   "source": [
    "### TEST ZELLE\n",
    "assert fak(5)==120, \"Bei der Fakultäts-Funktion stimmt etwas nicht\"\n",
    "assert fak()==1405006117752879898543142606244511569936384000000000, \"Default Parameter verwenden\"\n",
    "\n",
    "try:\n",
    "    etype=False\n",
    "    fak('w')\n",
    "except ValueError:\n",
    "    etype = True\n",
    "except Exception as e:\n",
    "    pass\n",
    "assert etype, \"Bei falschem Paramter einen ValueError erzeugen\""
   ]
  },
  {
   "cell_type": "markdown",
   "metadata": {},
   "source": [
    "**Aufgabe 3:** Schreiben Sie eine Funktion ggt(a,b), die den größten gemeinsamen Teiler (ggT) zweier Zahlen berechnet.\n",
    "\n",
    "\n",
    "Hinweise: Eine effiziente Möglichkeit, den ggT zu berechnen ist der euklidische Algorithmus. Das Verfahren funktioniert folgendermaßen:\n",
    "\n",
    "1. Solange `b!=0` (*b ungleich 0*) gilt, wiederhole folgende Schritte:\n",
    "    - Berechne `r` als den ganzzahligen **Rest** der Division  `𝑎/𝑏`  (also: \"r gleich a modulo b\")\n",
    "    - Setze `a=b` und `b=r`\n",
    "1. Gebe a als Ergebnis zurück\n"
   ]
  },
  {
   "cell_type": "code",
   "execution_count": 53,
   "metadata": {
    "deletable": false,
    "nbgrader": {
     "grade": false,
     "grade_id": "cell-bfeb0b8aa13f5cae",
     "locked": false,
     "schema_version": 3,
     "solution": true,
     "task": false
    }
   },
   "outputs": [],
   "source": [
    "def ggt(a, b):\n",
    "    while b != 0:\n",
    "        r = a % b\n",
    "        a = b\n",
    "        b = r\n",
    "\n",
    "    return a"
   ]
  },
  {
   "cell_type": "code",
   "execution_count": 54,
   "metadata": {
    "deletable": false,
    "editable": false,
    "nbgrader": {
     "grade": true,
     "grade_id": "cell-f3f15388f6852fe6",
     "locked": true,
     "points": 1,
     "schema_version": 3,
     "solution": false,
     "task": false
    }
   },
   "outputs": [],
   "source": [
    "### TEST ZELLE\n",
    "test_cases = [(123, 321, 3),(545,654, 109),(459,666, 9)]\n",
    "assert all([ggt(a,b)==c for a, b, c in test_cases]), ''"
   ]
  },
  {
   "cell_type": "markdown",
   "metadata": {},
   "source": [
    "**Zusatzaufgabe:**\n",
    "\n",
    "Sie haben nun eine `ggt` Funktion, die den größten gemeinsamen Teiler zweier Zahlen berechnet.\n",
    "Falls Sie den ggT von mehr als 2 Zahlen berechnen wollen, können Sie die Funktion `ggt` mehrfach benutzen.\n",
    "Nehmen wir an Sie wollen den ggt der Zahlen `a`, `b`, und `c` berechnen.\n",
    "Es gilt:\n",
    "\n",
    "$ggT(a,b,c)=ggT(ggT(a,b),c)$.\n",
    "\n",
    "Da für die ggT Funktion das Assoziativgesetz gilt, ist es unerheblich, in welcher \"Reihenfolge\" Sie die Funktion aufrufen.\n",
    "Es gilt also:\n",
    "\n",
    "$ggT(ggT(a,b),c)=ggT(a,ggT(b,c)$.\n",
    "\n",
    "**Schreiben Sie eine Funktion `ggt_x`, die den ggT von 2 und mehr Zahlen berechnet.**\n",
    "\n",
    "**Hinweise:** Verwenden Sie variable (Positions-) Parameter nach dem Muster `ggt_x(a, b, *weitere)`."
   ]
  },
  {
   "cell_type": "code",
   "execution_count": 74,
   "metadata": {
    "deletable": false,
    "nbgrader": {
     "grade": false,
     "grade_id": "cell-381f67e1bf0eb9bf",
     "locked": false,
     "schema_version": 3,
     "solution": true,
     "task": false
    }
   },
   "outputs": [
    {
     "data": {
      "text/plain": [
       "2"
      ]
     },
     "execution_count": 74,
     "metadata": {},
     "output_type": "execute_result"
    }
   ],
   "source": [
    "def ggt_x(a, b, *weitere):\n",
    "    erg = ggt(a,b)\n",
    "    \n",
    "    for w in weitere:\n",
    "        erg = ggt(erg, w)\n",
    "\n",
    "    return erg\n",
    "        \n",
    "ggt_x(128,6,12,8)"
   ]
  },
  {
   "cell_type": "code",
   "execution_count": 75,
   "metadata": {
    "deletable": false,
    "editable": false,
    "nbgrader": {
     "grade": true,
     "grade_id": "cell-f743fd5ad6da7f22",
     "locked": true,
     "points": 0,
     "schema_version": 3,
     "solution": false,
     "task": false
    }
   },
   "outputs": [],
   "source": [
    "### TEST ZELLE\n",
    "assert ggt_x(120, 540) == 60, 'Die Funktion soll auch mit 2 Parametern funktionieren.'\n",
    "assert ggt_x(120, 540, 1200, 3420, 5620) == 20, 'Bei der Lösung stimmt etwas nicht.'"
   ]
  },
  {
   "cell_type": "markdown",
   "metadata": {},
   "source": [
    "### Dateien lesen und Schreiben\n",
    "\n",
    "Daten aus Dateien zu lesen oder zu schreiben benötigt man ständig. Wir wollen das anhand einer kleinen Aufgabe nochmal üben:\n",
    "\n",
    "**Aufgabe 4a:** Schreiben Sie drei oder mehr Strings als Zeilen in eine Datei und schließen Sie die Datei. anschließend."
   ]
  },
  {
   "cell_type": "code",
   "execution_count": 82,
   "metadata": {
    "deletable": false,
    "nbgrader": {
     "grade": false,
     "grade_id": "cell-61d2494438025638",
     "locked": false,
     "schema_version": 3,
     "solution": true,
     "task": false
    }
   },
   "outputs": [],
   "source": [
    "file_name = \"ausgabe.txt\"\n",
    "\n",
    "fobj = None # Verwende fobj als Datei Handle\n",
    "\n",
    "fobj = open(file_name, \"w\")\n",
    "for i in range(5):\n",
    "    fobj.write(f\"zeile {i + 1}\\n\")\n",
    "\n",
    "fobj.close()"
   ]
  },
  {
   "cell_type": "code",
   "execution_count": 83,
   "metadata": {
    "deletable": false,
    "editable": false,
    "nbgrader": {
     "grade": true,
     "grade_id": "cell-201ec32995367ce3",
     "locked": true,
     "points": 0,
     "schema_version": 3,
     "solution": false,
     "task": false
    },
    "slideshow": {
     "slide_type": ""
    },
    "tags": []
   },
   "outputs": [],
   "source": [
    "### TEST ZELLE\n",
    "assert fobj.closed, 'Datei ist nicht geschlossen'\n",
    "try:\n",
    "    file = open(file_name, \"r\")\n",
    "    assert file.read().count('\\n')>2, '\"ausgabe.txt\" enthält weniger als 3 Zeilen'\n",
    "    file.close()\n",
    "except FileNotFoundError:\n",
    "    print('\"ausgabe.txt\" ist nicht erstellt')\n",
    "    raise"
   ]
  },
  {
   "cell_type": "markdown",
   "metadata": {},
   "source": [
    "**Aufgabe 4b:** Öffnen Sie die Datei `ausgabe.txt` zum Lesen und geben Sie den Inhalt aus."
   ]
  },
  {
   "cell_type": "code",
   "execution_count": 91,
   "metadata": {
    "deletable": false,
    "nbgrader": {
     "grade": false,
     "grade_id": "cell-c37104af1f381b84",
     "locked": false,
     "schema_version": 3,
     "solution": true,
     "task": false
    }
   },
   "outputs": [
    {
     "name": "stdout",
     "output_type": "stream",
     "text": [
      "zeile 1\n",
      "\n",
      "zeile 2\n",
      "\n",
      "zeile 3\n",
      "\n",
      "zeile 4\n",
      "\n",
      "zeile 5\n",
      "\n"
     ]
    }
   ],
   "source": [
    "file_name = \"ausgabe.txt\"\n",
    "\n",
    "fobj = None\n",
    "\n",
    "fobj = open(file_name, \"r\")\n",
    "for line in fobj:\n",
    "    print(line)\n",
    "\n",
    "fobj.close()"
   ]
  },
  {
   "cell_type": "code",
   "execution_count": 92,
   "metadata": {
    "deletable": false,
    "editable": false,
    "nbgrader": {
     "grade": true,
     "grade_id": "cell-945b4331136cba10",
     "locked": true,
     "points": 1,
     "schema_version": 3,
     "solution": false,
     "task": false
    },
    "slideshow": {
     "slide_type": ""
    },
    "tags": []
   },
   "outputs": [],
   "source": [
    "### TEST ZELLE\n",
    "from unittest.mock import patch\n",
    "with patch('__main__.print') as mock_print:\n",
    "     exec(_i)\n",
    "mock_print.assert_called()\n",
    "assert fobj.closed, 'File is not closed'"
   ]
  },
  {
   "cell_type": "markdown",
   "metadata": {},
   "source": [
    "### Strings und Konvertierung\n",
    "\n",
    "**Aufgabe 5:** Implementieren Sie eine Funktion `sternchen`, die als Argument einen String oder eine Zahl akzeptiert. Sie soll als Rückgabewert einen String liefern, der vorne und hinten je drei Sternchen und dazwischen, durch Leerzeichen abgetrennt, den Parameter enthält. Also z. B.:\n",
    "```python\n",
    "sternchen(\"Hallo\") # soll \"*** Hallo ***\" zurückgeben\n",
    "sternchen(42)      # soll \"*** 42 ***\"    zurückgeben\n",
    "sternchen(4.123)   # soll \"*** 4.123 ***\" zurückgeben\n",
    "```\n",
    "Sie können für die Umwandlung von Zahlen in Strings die Funktion `str()` verwenden, sollen diese aber nur aufrufen, wenn der Parameter kein String ist. Bei der Implementierung wird Ihnen die Funktion `type()` helfen."
   ]
  },
  {
   "cell_type": "code",
   "execution_count": null,
   "metadata": {
    "deletable": false,
    "nbgrader": {
     "grade": false,
     "grade_id": "cell-c1c7e574c742012d",
     "locked": false,
     "schema_version": 3,
     "solution": true,
     "task": false
    }
   },
   "outputs": [],
   "source": [
    "def sternchen(x):\n",
    "    # YOUR CODE HERE\n",
    "    raise NotImplementedError()"
   ]
  },
  {
   "cell_type": "code",
   "execution_count": null,
   "metadata": {
    "deletable": false,
    "editable": false,
    "nbgrader": {
     "grade": true,
     "grade_id": "cell-21149defe9cc71ae",
     "locked": true,
     "points": 1,
     "schema_version": 3,
     "solution": false,
     "task": false
    }
   },
   "outputs": [],
   "source": [
    "### TEST ZELLE\n",
    "assert not [a for a in [15, 'Hallo'] if sternchen(a) != f'*** {a} ***'], 'Die Lösung ist nicht korrekt'"
   ]
  },
  {
   "cell_type": "markdown",
   "metadata": {},
   "source": [
    "## Zeichnen mit `Turtle` (optional)\n",
    "\n",
    "\n",
    "Logo ist eine Programmiersprache, die in den 1960-er Jahren am MIT entwickelt wurde und ursprünglich für den Einsatz in Schulen konzipiert war, um Kindern das Programmieren näher zu bringen.\n",
    "Eine *Spezialität* von Logo sind sogenannte **Turtle-Grafiken**. Dabei handelt es sich um Strichzeichnungen, die entstehen, wenn sich eine *virtuelle Schiltkröte*, durch ein Programm gesteuert, über eine Zeichenfläche bewegt und dabei farbige Striche hinterlässt.\n",
    "Auch für Python gibt es entsprechende Bibliotheken/Module, mit den Turtle-Grafiken erstellt werden können.\n",
    "\n",
    "Das Ganze klingt sehr spielerisch, allerdings kann man mit Turtle Grafiken sehr gut Abläufe visualisieren, wie Sie mit Schleifen (für die Wiederholung von *Mustern*) und Funktionen (für das Kapseln von Mustern in wiederverwendbaren Blöcken) programmiert werden können."
   ]
  },
  {
   "cell_type": "markdown",
   "metadata": {},
   "source": [
    "`Turtle` kommt mit sehr wenigen Funktionen aus.\n",
    "Allerdings gibt es, selbst für Python, verschiedenste Turtle Implementierungen, die jeweils einen unterschiedlichen Funktionsumfang bieten.\n",
    "\n",
    "Eine Turtle-Version die sich in Jupyter-Notebooks anzeigen lässt ist `jupyturtle` und bietet nur sehr wenige Funktionen.\n",
    "Hier eine Übersicht dazu:\n",
    "\n",
    "\n",
    "- **`back(n)` oder `bk(n)`**: Bewegt die Schildkröte `n` Einheiten rückwärts.\n",
    "- **`forward(n)` oder `fd(n)`**: Bewegt die Schildkröte `n` Einheiten vorwärts.\n",
    "- **`left(n)` oder `lt(n)`**: Dreht die Schildkröte um `n` Grad nach links.\n",
    "- **`right(n)` oder `rt(n)`**: Dreht die Schildkröte um `n` Grad nach rechts.\n",
    "- **`make_turtle()`**: Erstellt eine neue Schildkröte und ein leeres Zeichenfeld.\n",
    "- **`pen_up()`**: Hebt den Stift an, damit die Schildkröte keine Linie zeichnet.\n",
    "- **`pen_down()`**: Senkt den Stift, damit die Schildkröte eine Linie zeichnet.\n",
    "- **`toggle_pen()`**: Wechselt den Zustand des Stifts (hebt ihn, wenn er unten ist, und senkt ihn, wenn er oben ist).\n",
    "- **`set_color(color)`**: Setzt die Farbe der gezeichneten Linien auf `color`.\n",
    "- **`set_width(n)`**: Setzt die Breite der gezeichneten Linie auf `n`.\n",
    "- **`jump_to(x, y)`**: Bewegt die Schildkröte ohne zu zeichnen zu den Koordinaten `(x, y)`.\n",
    "- **`move_to(x, y)`**: Bewegt die Schildkröte zu den Koordinaten `(x, y)` und zeichnet dabei eine Linie.\n",
    "- **`show()`**: Macht die Schildkröte sichtbar.\n",
    "- **`hide()`**: Macht die Schildkröte unsichtbar.\n",
    "- **`repeat(n, *items)`**: Wiederholt die angegebene Befehlsfolge `n` Mal.\n",
    "- **`no_pen()`**: Hebt den Stift temporär an, während eines `with`-Blocks.\n",
    "- **`draw()`**: Rendert die aktuelle Zeichnung auf dem Zeichenfeld."
   ]
  },
  {
   "cell_type": "markdown",
   "metadata": {},
   "source": [
    "In der folgenden Code Zelle werden die notwendigen Module importiert und die Zeichenfläche initialisiert.\n",
    "Die Turtle-Bibliothek `jupyturtle` ist *objektorientiert*, das bedeutet, dass alle Operationen auf einem *Objekt der Klasse Turtle* ausgeführt werden müssen.\n",
    "Um dies zu umgehen, werden in der folgenden Zelle die Turtle-Funktionen *um-definiert*, sodass Sie auf einem globalen Objekt ausgeführt werden.\n",
    "Schauen Sie sich den Code gerne an, für die Lösung der Aufgaben können Sie ihn aber ignorieren."
   ]
  },
  {
   "cell_type": "code",
   "execution_count": null,
   "metadata": {},
   "outputs": [],
   "source": [
    "ON_JHUB = True\n",
    "if ON_JHUB:\n",
    "    try:\n",
    "        from jupyturtle import *\n",
    "    except:\n",
    "        import sys\n",
    "        !{sys.executable} -m pip install jupyturtle\n",
    "        from jupyturtle import *"
   ]
  },
  {
   "cell_type": "code",
   "execution_count": null,
   "metadata": {},
   "outputs": [],
   "source": [
    "from random import randint, choice, random, seed\n",
    "\n",
    "rad = 300\n",
    "XYSIZE = 2 * rad\n",
    "STEPSIZE = 20\n",
    "\n",
    "def rgb_to_hex(r, g, b):\n",
    "    \"\"\"Convert RGB values to HEX format.\"\"\"\n",
    "    return f'#{r:02x}{g:02x}{b:02x}'\n",
    "        \n",
    "def new_turtle(width=XYSIZE, height=XYSIZE):\n",
    "    make_turtle(width=width, height=height)\n",
    "\n",
    "def pencolor(t, r=-1, g=-1, b=-1): \n",
    "    if r == -1 and g == -1 and b == -1:\n",
    "        return\n",
    "    hex_color = rgb_to_hex(r, g, b)\n",
    "    pen_color(hex_color)"
   ]
  },
  {
   "cell_type": "markdown",
   "metadata": {},
   "source": [
    "**Aufgabe A:** Zeichnen Sie einen Fünfstern (*Pentagram*) in die Zeichenfläche. Einen Fünfstern können Sie *in einem Zug* zeichnen, indem Sie zuerst einen Schenkel zeichnen und dann in einen Winkel von 36° weiterzeichen. Diesen Winkel erreichen Sie, indem die Richtung der Schildkröte um 144° drehen (`180°-144°=36°`). Die Schenkellänge soll 100 Längeneinheiten betragen. Dach zeichnen Sie den nächsten Schenkel und drehen die Schildköte erneut um 144°. Diese Schritte wiederholen Sie insgesamt 5 Mal."
   ]
  },
  {
   "cell_type": "code",
   "execution_count": null,
   "metadata": {
    "deletable": false,
    "nbgrader": {
     "grade": true,
     "grade_id": "cell-32a383d9cc2af58a",
     "locked": false,
     "points": 0,
     "schema_version": 3,
     "solution": true,
     "task": false
    }
   },
   "outputs": [],
   "source": [
    "new_turtle()\n",
    "# YOUR CODE HERE\n",
    "raise NotImplementedError()"
   ]
  },
  {
   "cell_type": "markdown",
   "metadata": {},
   "source": [
    "**Aufgabe B:** Schreiben Sie eine Funktion `star` zum Zeichnen eines Fünfsterns. Als Parmeter soll die Schenkellänge an die Funktion Übergeben werden können. Fehlt der Parameter beim Aufruf, soll die Schenkellänge zufällig im Bereich 10 bis 50 Längeneinheiten gewählt werden.\n",
    "Die Ecken der Sterne sollen in zufällige Richtungen (und nicht immer in die gleiche Richtung) zeigen. Dazu drehen Sie vor dem Zeichnen die Schildkröte um einen zufälligen Winkel.\n",
    "\n",
    "Um eine gleichverteilte Zufallszahl im Bereich `[a,b]` zu erhalten, verwenden Sie die Funktion `randint(a,b)`."
   ]
  },
  {
   "cell_type": "code",
   "execution_count": null,
   "metadata": {
    "deletable": false,
    "nbgrader": {
     "grade": true,
     "grade_id": "cell-ae4766290d21eda6",
     "locked": false,
     "points": 0,
     "schema_version": 3,
     "solution": true,
     "task": false
    }
   },
   "outputs": [],
   "source": [
    "new_turtle()\n",
    "# YOUR CODE HERE\n",
    "raise NotImplementedError()\n",
    "\n",
    "star(100)\n",
    "star()\n",
    "star()"
   ]
  },
  {
   "cell_type": "markdown",
   "metadata": {},
   "source": [
    "**Aufgabe C:** Schreiben Sie eine Funktion `draw_a_star` zum Zeichnen eines Fünfsterns an eine zufällige Position auf der Zeichenfläche. Die Farbe des Sterns soll ebenfalls zufällig gewählt werden.\n",
    "\n",
    "Für die Position des Sterns kommen die `x`- und `y`-Koordinaten zwischen `-rad` und `rad` infrage. Die Farbe für die Strichkanten wird nach dem RGB-Modell gebildet. Dazu müssen die Rot-/Grün-/Blau-Anteile jeweils in Prozent (im Bereich `[0,1]`) angegeben werden. Eine Fließkommazahl in diesem Bereich erhalten Sie mit dem Aufruf ` random()`."
   ]
  },
  {
   "cell_type": "code",
   "execution_count": null,
   "metadata": {
    "deletable": false,
    "nbgrader": {
     "grade": true,
     "grade_id": "cell-c87f0f36d5a009a8",
     "locked": false,
     "points": 0,
     "schema_version": 3,
     "solution": true,
     "task": false
    }
   },
   "outputs": [],
   "source": [
    "new_turtle()\n",
    "# YOUR CODE HERE\n",
    "raise NotImplementedError()\n",
    "\n",
    "for i in range(10):\n",
    "    draw_a_star()"
   ]
  }
 ],
 "metadata": {
  "kernelspec": {
   "display_name": "Python 3 (ipykernel)",
   "language": "python",
   "name": "python3"
  },
  "language_info": {
   "codemirror_mode": {
    "name": "ipython",
    "version": 3
   },
   "file_extension": ".py",
   "mimetype": "text/x-python",
   "name": "python",
   "nbconvert_exporter": "python",
   "pygments_lexer": "ipython3",
   "version": "3.11.9"
  },
  "varInspector": {
   "cols": {
    "lenName": 16,
    "lenType": 16,
    "lenVar": 40
   },
   "kernels_config": {
    "python": {
     "delete_cmd_postfix": "",
     "delete_cmd_prefix": "del ",
     "library": "var_list.py",
     "varRefreshCmd": "print(var_dic_list())"
    },
    "r": {
     "delete_cmd_postfix": ") ",
     "delete_cmd_prefix": "rm(",
     "library": "var_list.r",
     "varRefreshCmd": "cat(var_dic_list()) "
    }
   },
   "types_to_exclude": [
    "module",
    "function",
    "builtin_function_or_method",
    "instance",
    "_Feature"
   ],
   "window_display": false
  }
 },
 "nbformat": 4,
 "nbformat_minor": 4
}
