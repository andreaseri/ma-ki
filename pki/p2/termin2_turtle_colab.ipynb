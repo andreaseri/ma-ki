{
 "cells": [
  {
   "cell_type": "markdown",
   "metadata": {},
   "source": [
    "<figure>\n",
    "  <IMG SRC=\"https://upload.wikimedia.org/wikipedia/commons/thumb/d/d5/Fachhochschule_Südwestfalen_20xx_logo.svg/320px-Fachhochschule_Südwestfalen_20xx_logo.svg.png\" WIDTH=250 ALIGN=\"right\">\n",
    "</figure>\n",
    "\n",
    "# Programmierung für KI\n",
    "### Winterersemester 2024/25\n",
    "Prof. Dr. Heiner Giefers"
   ]
  },
  {
   "cell_type": "markdown",
   "metadata": {
    "id": "m-GL7Mhtnp-A"
   },
   "source": [
    "# Praktikumstermin 2 - Turtle Grafiken mit Google Colab\n",
    "   "
   ]
  },
  {
   "cell_type": "markdown",
   "metadata": {
    "id": "8qJdWV6bnp-J"
   },
   "source": [
    "## Zeichnen mit `Turtle` (optional)\n",
    "\n",
    "\n",
    "Logo ist eine Programmiersprache, die in den 1960-er Jahren am MIT entwickelt wurde und ursprünglich für den Einsatz in Schulen konzipiert war, um Kindern das Programmieren näher zu bringen.\n",
    "Eine *Spezialität* von Logo sind sogenannte **Turtle-Grafiken**. Dabei handelt es sich um Strichzeichnungen, die entstehen, wenn sich eine *virtuelle Schiltkröte*, durch ein Programm gesteuert, über eine Zeichenfläche bewegt und dabei farbige Striche hinterlässt.\n",
    "Auch für Python gibt es entsprechende Bibliotheken/Module, mit den Turtle-Grafiken erstellt werden können.\n",
    "\n",
    "Das Ganze klingt sehr spielerisch, allerdings kann man mit Turtle Grafiken sehr gut Abläufe visualisieren, wie Sie mit Schleifen (für die Wiederholung von *Mustern*) und Funktionen (für das Kapseln von Mustern in wiederverwendbaren Blöcken) programmiert werden können."
   ]
  },
  {
   "cell_type": "markdown",
   "metadata": {
    "id": "ySTCyCJVnp-K"
   },
   "source": [
    "`Turtle` kommt mit sehr wenigen Funktionen aus.\n",
    "Allerdings gibt es, selbst für Python, verschiedenste Turtle Implementierungen, die jeweils einen unterschiedlichen Funktionsumfang bieten.\n",
    "\n",
    "Eine Turtle-Version die sich in Jupyter-Notebooks mit Google Colab anzeigen lässt ist `ColabTurtle` und bietet nur sehr wenige Funktionen.\n",
    "Hier eine Übersicht dazu:\n",
    "\n",
    "- `position()` Liefert die Position der Schildkröte auf der Zeichenfläche.\n",
    "- `forward(length)` Bewegt die Schildkröte `length`Schritte vorwärts.\n",
    "- `back(length)` Bewegt die Schildkröte `length`Schritte rückwärts.\n",
    "- `heading()` Liefert die aktuelle Richtung Schildkröte als Gradmaß. Die Richtung der x-Achse (\"Blickrichtung nach rechts\") entsricht 0°.\n",
    "- `left(degree=None)` Dreht die Schildkröte um `degree` Grad nach links.\n",
    "- `right(degree=None)` Dreht die Schildkröte um `degree` Grad nach rechts.\n",
    "- `penup()`  \"Hebt den Stift\", die folgenden Bewegungen der Schidkröte hinterlassen keine Linien.\n",
    "- `pendown()` \"Senkt den Stift\", die folgenden Bewegungen der Schidkröte hinterlassen Linien.\n",
    "- `isdown()` Liefert `True`, wenn der Stift \"abgesenkt\" ist, ansonsten `False`.\n",
    "- `hideturtle()` Die Zeichenspitze (Schildkröte bzw. der Pfeil) werden nicht mehr angezeigt.\n",
    "- `showturtle()` Die Zeichenspitze (Schildkröte bzw. der Pfeil) werden angezeigt.\n",
    "- `isvisible()` Liefert `True`, wenn Zeichenspitze ngezeigt wird, ansonsten `False`.\n",
    "- `reset()` Löscht die Zeichenfläche und bringt die Schildkröte in die Ausgangsposition\n",
    "- `pencolor(r,g,b)` Legt die Farbe des Stiftes im Bereich `[0,255]` fest.\n",
    "- `pencolor(string)` HTML-Standardfarbnamen: 140 als Standard definierte Farbnamen (https://www.w3schools.com/colors/colors_names.asp). Beispiele: \"red\", \"black\", \"magenta\", \"cyan\" etc."
   ]
  },
  {
   "cell_type": "markdown",
   "metadata": {
    "id": "k3VYhHPPnp-K"
   },
   "source": [
    "In der folgenden Code Zelle werden die notwendigen Module importiert und die Zeichenfläche initialisiert.\n",
    "Die Turtle-Bibliothek `ColabTurtle` ist *objektorientiert*, das bedeutet, dass alle Operationen auf einem *Objekt der Klasse Turtle* ausgeführt werden müssen."
   ]
  },
  {
   "cell_type": "code",
   "execution_count": null,
   "metadata": {
    "id": "UTAHF5kGZeu1"
   },
   "outputs": [],
   "source": [
    "# Paket ColabTurtle installieren\n",
    "try:\n",
    "    import ColabTurtle\n",
    "except:\n",
    "    import sys\n",
    "    !{sys.executable} -m pip install ColabTurtle"
   ]
  },
  {
   "cell_type": "code",
   "execution_count": null,
   "metadata": {
    "id": "7d4FDM_bnp-K"
   },
   "outputs": [],
   "source": [
    "# Imports\n",
    "from turtle import Turtle\n",
    "from random import randint, choice, random, seed\n",
    "\n",
    "# Hinweis: Diese Bibliothek unterscheidet nicht zwischen pencolor und color\n",
    "from ColabTurtle.Turtle import *\n",
    "\n",
    "# Standardwerte des Fensters in der Bibliothek\n",
    "WIDTH = window_size[0]\n",
    "HEIGHT = window_size[1]\n",
    "\n",
    "# Schrittweite\n",
    "STEPSIZE = 20\n",
    "\n",
    "# Eigene Methoden\n",
    "def reset():\n",
    "  clear()\n",
    "  home()\n",
    "\n",
    "def home():\n",
    "  color(\"white\")\n",
    "  penup()\n",
    "  goto(WIDTH // 2, HEIGHT// 2);\n",
    "  pendown()\n",
    "  setheading(270)\n",
    "\n",
    "# Initialisierung\n",
    "initializeTurtle()"
   ]
  },
  {
   "cell_type": "markdown",
   "metadata": {
    "id": "-0ps5uDAnp-K"
   },
   "source": [
    "**Aufgabe A:** Zeichnen Sie einen Fünfstern (*Pentagram*) in die Zeichenfläche. Einen Fünfstern können Sie *in einem Zug* zeichnen, indem Sie zuerst einen Schenkel zeichnen und dann in einen Winkel von 36° weiterzeichen. Diesen Winkel erreichen Sie, indem die Richtung der Schildkräte um 144° drehen (`180°-144°=36°`). Die Schenkellänge soll 100 Längeneinheiten betragen. Dach zeichnen Sie den nächsten Schenkel und drehen die Schildköte erneut um 144°. Diese Schritte wiederholen Sie insgesamt 5 Mal."
   ]
  },
  {
   "cell_type": "code",
   "execution_count": null,
   "metadata": {
    "deletable": false,
    "id": "qsZZcknanp-K",
    "nbgrader": {
     "grade": true,
     "grade_id": "cell-32a383d9cc2af58a",
     "locked": false,
     "points": 0,
     "schema_version": 3,
     "solution": true,
     "task": false
    }
   },
   "outputs": [],
   "source": [
    "reset()\n",
    "\n",
    "# YOUR CODE HERE\n",
    "raise NotImplementedError()"
   ]
  },
  {
   "cell_type": "markdown",
   "metadata": {
    "id": "jxl5g9janp-K"
   },
   "source": [
    "**Aufgabe B:** Schreiben Sie eine Funktion `star` zum Zeichnen eines Fünfsterns. Als Parmeter soll die Schenkellänge an die Funktion Übergeben werden können. Fehlt der Parameter beim Aufruf, soll die Schenkellänge zufällig im Bereich 10 bis 50 Längeneinheiten gewählt werden.\n",
    "Die Ecken der Sterne sollen in zufällige Richtungen (und nicht immer in die gleiche Richtung) zeigen. Dazu drehen Sie vor dem Zeichnen die Schildkröte um einen zufälligen Winkel.\n",
    "\n",
    "Um eine gleichverteilte Zufallszahl im Bereich `[a,b]` zu erhalten, verwenden Sie die Funktion `randint(a,b)`."
   ]
  },
  {
   "cell_type": "code",
   "execution_count": null,
   "metadata": {
    "deletable": false,
    "id": "Ddi2HcQonp-K",
    "nbgrader": {
     "grade": true,
     "grade_id": "cell-ae4766290d21eda6",
     "locked": false,
     "points": 0,
     "schema_version": 3,
     "solution": true,
     "task": false
    }
   },
   "outputs": [],
   "source": [
    "# YOUR CODE HERE\n",
    "raise NotImplementedError()\n",
    "\n",
    "reset()\n",
    "star(100)\n",
    "star()\n",
    "star()\n",
    "\n",
    "home()"
   ]
  },
  {
   "cell_type": "markdown",
   "metadata": {
    "id": "A20cSt2xnp-L"
   },
   "source": [
    "**Aufgabe C:** Schreiben Sie eine Funktion `draw_a_star` zum Zeichnen eines Fünfsterns an eine zufällige Position auf der Zeichenfläche. Die Farbe des Sterns soll ebenfalls zufällig gewählt werden.\n",
    "\n",
    "Für die Position des Sterns kommen die `x`- und `y`-Koordinaten im Bereich `[50,WIDTH-50]` für `x` und `[50, HEIGHT-50]` für `y` infrage. Die Farbe für die Strichkanten wird nach dem RGB-Modell gebildet. Dazu müssen die Rot-/Grün-/Blau-Anteile jeweils im Bereich `[0,255]` angegeben werden. Eine Ganzzahl in diesem Bereich erhalten Sie mit dem Aufruf `randint(start, stop)` (beide eingeschlossen)."
   ]
  },
  {
   "cell_type": "code",
   "execution_count": null,
   "metadata": {
    "deletable": false,
    "id": "0M44nzbZnp-L",
    "nbgrader": {
     "grade": true,
     "grade_id": "cell-c87f0f36d5a009a8",
     "locked": false,
     "points": 0,
     "schema_version": 3,
     "solution": true,
     "task": false
    }
   },
   "outputs": [],
   "source": [
    "# YOUR CODE HERE\n",
    "raise NotImplementedError()\n",
    "\n",
    "reset()\n",
    "for i in range(10):\n",
    "    draw_a_star()\n",
    "home()"
   ]
  },
  {
   "cell_type": "markdown",
   "metadata": {
    "id": "7I1rlWDDnp-L"
   },
   "source": [
    "**Aufgabe D:** Der folgenden Python Code implementiert ein kleines Spiel, bei dem ein Marker an eine Stelle des Zeichenfelds positioniert wird und die Schildkröte versucht, durch zufälliges *Wandern* auf dem Zeichenfeld diesen Marker zu erreichen.\n",
    "\n",
    "Um die Bewegungsfreiheit etwas einzuschränken, soll sich die Schildkröte nur auf einem *Raster* (engl. *Grid*) bewegen können. Die Schrittweite ist festgelegt mit `STEPSIZE=20` Längeneinheiten. Die Schildkröte darf sich nur in 90° Winkeln drehen. `grid_position_x` und `grid_position_y` liefern die `x` und `y` Koordinaten der Schildkröte auf dem Zeichenfeld als Ganzzahlen.\n",
    "\n",
    "Implementieren Sie die Funktionen `on_border` und `random_move` korrekt aus:\n",
    "\n",
    "Bei der Funktion `on_board` überprüfen Sie, ob die Schildkröte auf oder über dem Rand der Zeichenfläche steht **und** in die Richtung des Rands schaut. Ist das der Fall, geben Sie `True` zurück andernfalls `False`\n",
    "\n",
    "Bei der Funktion `random_move` überprüfen Sie zunächst, ob die Schildkröte auf oder über dem Rand steht und in Richtung der Ausenfläche ausgerichtet ist. Ist dies der Fall, so drehen Sie die Schidkröte und laufen somit in die entgegengesetzte Richtung (also in Richtung Zeichenfeld). Ist die Schildkröte nicht am Rand, wählen Sie zufällig aus einer der Alternativen *nach rechts*, *gradeaus* und *nach links* aus. Drehen Sie die Schidkröte ggf. nach rechts oder links und laufen Sie in die entsprechende Richtung.\n",
    "\n",
    "Zur Auswahl eines Wertes aus mehreren Alternativen hilft Ihnen die Funktion `choice` aus dem Modul `random`.\n",
    "Der Aufruf `choice(('A', 'B', 'C'))` etwa, liefert ihnen mit jeweils gleicher Wahrscheinlichkeit eines der Zeichen `A`, `B` oder `C`."
   ]
  },
  {
   "cell_type": "code",
   "execution_count": null,
   "metadata": {
    "deletable": false,
    "id": "lzXivlotnp-L",
    "nbgrader": {
     "grade": true,
     "grade_id": "cell-612aae5183ff029e",
     "locked": false,
     "points": 0,
     "schema_version": 3,
     "solution": true,
     "task": false
    }
   },
   "outputs": [],
   "source": [
    "def grid_position_x():\n",
    "    p = position()\n",
    "    return int(p[0])\n",
    "\n",
    "def grid_position_y():\n",
    "    p = position()\n",
    "    return int(p[1])\n",
    "\n",
    "def on_border():\n",
    "    # YOUR CODE HERE\n",
    "    raise NotImplementedError()\n",
    "\n",
    "def random_move(stepsize):\n",
    "    # YOUR CODE HERE\n",
    "    raise NotImplementedError()\n",
    "\n",
    "def red_circle():\n",
    "    pendown()\n",
    "    pencolor(\"red\")\n",
    "    for i in range(36):\n",
    "        forward(1)\n",
    "        right(10)\n",
    "    pencolor(\"white\")\n",
    "    penup()\n",
    "\n",
    "def play(myseed, max_moves=300):\n",
    "    reset()\n",
    "    seed(myseed)\n",
    "\n",
    "    flagx = grid_position_x() - 4 * STEPSIZE  # 200\n",
    "    flagy = grid_position_y() - 2 * STEPSIZE  # 400\n",
    "    if flagx < 0: flagx = 10;\n",
    "    if flagy < 0: flagy = 10;\n",
    "\n",
    "    penup()\n",
    "    goto(flagx, flagy)\n",
    "    pendown()\n",
    "    red_circle()\n",
    "\n",
    "    home()    # Schildkröte mittig positionieren\n",
    "    pendown()\n",
    "    moves = 1\n",
    "    gewonnen = False\n",
    "    while moves <= max_moves and not gewonnen:\n",
    "        random_move(STEPSIZE)\n",
    "        if abs(grid_position_x()-flagx) + abs(grid_position_y()-flagy) <= 10:\n",
    "            gewonnen = True\n",
    "        moves += 1\n",
    "\n",
    "    if not gewonnen:\n",
    "        print(\"Verloren!\")\n",
    "        return 0\n",
    "    else:\n",
    "        print(f\"Gewonnen in {moves} Zügen!\")\n",
    "        return moves"
   ]
  },
  {
   "cell_type": "code",
   "execution_count": null,
   "metadata": {
    "id": "GYxPM6Tnnp-L"
   },
   "outputs": [],
   "source": [
    "speed(10)\n",
    "play(2, 600)    # play(myseed, max_moves)\n",
    "speed(4)        # Standardwert"
   ]
  }
 ],
 "metadata": {
  "colab": {
   "provenance": []
  },
  "kernelspec": {
   "display_name": "Python 3",
   "language": "python",
   "name": "python3"
  },
  "language_info": {
   "codemirror_mode": {
    "name": "ipython",
    "version": 3
   },
   "file_extension": ".py",
   "mimetype": "text/x-python",
   "name": "python",
   "nbconvert_exporter": "python",
   "pygments_lexer": "ipython3",
   "version": "3.10.6"
  }
 },
 "nbformat": 4,
 "nbformat_minor": 0
}
